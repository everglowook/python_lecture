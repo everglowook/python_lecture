{
 "cells": [
  {
   "cell_type": "markdown",
   "id": "409e4801",
   "metadata": {},
   "source": [
    "# 딕셔너리\n",
    "\n",
    "#### {Key1:Value1, Key2:Value2, Key3:Value3, ...}"
   ]
  },
  {
   "cell_type": "code",
   "execution_count": 1,
   "id": "4d0851ad",
   "metadata": {},
   "outputs": [
    {
     "data": {
      "text/plain": [
       "dict"
      ]
     },
     "execution_count": 1,
     "metadata": {},
     "output_type": "execute_result"
    }
   ],
   "source": [
    "dic = {}\n",
    "type(dic)"
   ]
  },
  {
   "cell_type": "code",
   "execution_count": 4,
   "id": "f5cc62da",
   "metadata": {},
   "outputs": [
    {
     "data": {
      "text/plain": [
       "3"
      ]
     },
     "execution_count": 4,
     "metadata": {},
     "output_type": "execute_result"
    }
   ],
   "source": [
    "dic = {'name':'pey', 'phone':'0119993323', 'birth': '1118'}\n",
    "len(dic)"
   ]
  },
  {
   "cell_type": "markdown",
   "id": "9751bd11",
   "metadata": {},
   "source": [
    "### 딕셔너리 쌍 추가하기"
   ]
  },
  {
   "cell_type": "code",
   "execution_count": 5,
   "id": "95f26537",
   "metadata": {},
   "outputs": [
    {
     "data": {
      "text/plain": [
       "{1: 'a', 2: 'b'}"
      ]
     },
     "execution_count": 5,
     "metadata": {},
     "output_type": "execute_result"
    }
   ],
   "source": [
    "a = {1: 'a'}\n",
    "a[2] = 'b'\n",
    "a"
   ]
  },
  {
   "cell_type": "code",
   "execution_count": 9,
   "id": "e4ca8699",
   "metadata": {},
   "outputs": [
    {
     "data": {
      "text/plain": [
       "{1: 'a', 2: 'b', 'c': 1}"
      ]
     },
     "execution_count": 9,
     "metadata": {},
     "output_type": "execute_result"
    }
   ],
   "source": [
    "a[\"c\"] = 1\n",
    "a"
   ]
  },
  {
   "cell_type": "code",
   "execution_count": 11,
   "id": "2d743651",
   "metadata": {},
   "outputs": [
    {
     "data": {
      "text/plain": [
       "{1: 'a', 2: 'b', 'c': 1, 3: [1, 2, 3]}"
      ]
     },
     "execution_count": 11,
     "metadata": {},
     "output_type": "execute_result"
    }
   ],
   "source": [
    "a[3] = [1,2,3]\n",
    "a"
   ]
  },
  {
   "cell_type": "markdown",
   "id": "32812b36",
   "metadata": {},
   "source": [
    "### 딕셔너리 요소 삭제하기"
   ]
  },
  {
   "cell_type": "code",
   "execution_count": 13,
   "id": "6d6e8f26",
   "metadata": {},
   "outputs": [],
   "source": [
    "a = {1: 'a', 2: 'b', 'c': 1, 3: [1, 2, 3]}"
   ]
  },
  {
   "cell_type": "code",
   "execution_count": 14,
   "id": "10dec78e",
   "metadata": {},
   "outputs": [
    {
     "data": {
      "text/plain": [
       "{1: 'a', 2: 'b', 'c': 1}"
      ]
     },
     "execution_count": 14,
     "metadata": {},
     "output_type": "execute_result"
    }
   ],
   "source": [
    "del a[3]\n",
    "a"
   ]
  },
  {
   "cell_type": "markdown",
   "id": "4615237f",
   "metadata": {},
   "source": [
    "### 딕셔너리에서 Key 사용해 Value 얻기"
   ]
  },
  {
   "cell_type": "code",
   "execution_count": 22,
   "id": "dc1112d9",
   "metadata": {},
   "outputs": [
    {
     "ename": "SyntaxError",
     "evalue": "invalid syntax (<ipython-input-22-3d6bf21d634a>, line 2)",
     "output_type": "error",
     "traceback": [
      "\u001b[1;36m  File \u001b[1;32m\"<ipython-input-22-3d6bf21d634a>\"\u001b[1;36m, line \u001b[1;32m2\u001b[0m\n\u001b[1;33m    data_dic{\"김연아\"}\u001b[0m\n\u001b[1;37m            ^\u001b[0m\n\u001b[1;31mSyntaxError\u001b[0m\u001b[1;31m:\u001b[0m invalid syntax\n"
     ]
    }
   ],
   "source": [
    "data_dic = {\"김연아\":\"피겨스케이팅\", \"류현진\":\"야구\", \"박지성\":\"축구\", \"귀도\":\"파이썬\"}\n",
    "data_dic{\"김연아\"}"
   ]
  },
  {
   "cell_type": "markdown",
   "id": "889083c1",
   "metadata": {},
   "source": [
    "### Key 리스트 만들기(keys)"
   ]
  },
  {
   "cell_type": "code",
   "execution_count": 24,
   "id": "3bd05933",
   "metadata": {},
   "outputs": [
    {
     "data": {
      "text/plain": [
       "dict_keys(['김연아', '류현진', '브루노페르난데스', '최정한'])"
      ]
     },
     "execution_count": 24,
     "metadata": {},
     "output_type": "execute_result"
    }
   ],
   "source": [
    "data_dic = {\"김연아\":\"피겨스케이팅\", \"류현진\":\"야구\", \"손흥민\":\"축구\", \"최정한\":\"파이썬\"}\n",
    "a = data_dic.keys()\n",
    "a"
   ]
  },
  {
   "cell_type": "markdown",
   "id": "456ef1bd",
   "metadata": {},
   "source": [
    "### Key 리스트 만들기(values)"
   ]
  },
  {
   "cell_type": "code",
   "execution_count": 26,
   "id": "61bfdab2",
   "metadata": {},
   "outputs": [
    {
     "data": {
      "text/plain": [
       "dict_values(['피겨스케이팅', '야구', '축구', '파이썬'])"
      ]
     },
     "execution_count": 26,
     "metadata": {},
     "output_type": "execute_result"
    }
   ],
   "source": [
    "data_dic = {\"김연아\":\"피겨스케이팅\", \"류현진\":\"야구\", \"손흥민\":\"축구\", \"최정한\":\"파이썬\"}\n",
    "data_dic.values()"
   ]
  },
  {
   "cell_type": "markdown",
   "id": "5306e662",
   "metadata": {},
   "source": [
    "### 해당 Key가 딕셔너리 안에 있는지 조사하기(in)"
   ]
  },
  {
   "cell_type": "code",
   "execution_count": 28,
   "id": "0c2fbe89",
   "metadata": {},
   "outputs": [
    {
     "data": {
      "text/plain": [
       "True"
      ]
     },
     "execution_count": 28,
     "metadata": {},
     "output_type": "execute_result"
    }
   ],
   "source": [
    "data_dic = {\"김연아\":\"피겨스케이팅\", \"류현진\":\"야구\", \"손흥민\":\"축구\", \"최정한\":\"파이썬\"}\n",
    "\"류현진\" in data_dic"
   ]
  },
  {
   "cell_type": "code",
   "execution_count": null,
   "id": "12cc5f6b",
   "metadata": {},
   "outputs": [],
   "source": [
    "data_dic = {\"김연아\":\"피겨스케이팅\", \"류현진\":\"야구\", \"손흥민\":\"축구\", \"최정한\":\"파이썬\"}\n",
    "key_name = [\"김연아\", \"류현진\", \"손흥민\", \"최정한\", \"귀도반로섬\"]\n",
    "if \"귀도반로섬\" not in data_dic:\n",
    "    "
   ]
  }
 ],
 "metadata": {
  "kernelspec": {
   "display_name": "Python 3",
   "language": "python",
   "name": "python3"
  },
  "language_info": {
   "codemirror_mode": {
    "name": "ipython",
    "version": 3
   },
   "file_extension": ".py",
   "mimetype": "text/x-python",
   "name": "python",
   "nbconvert_exporter": "python",
   "pygments_lexer": "ipython3",
   "version": "3.8.9"
  }
 },
 "nbformat": 4,
 "nbformat_minor": 5
}
